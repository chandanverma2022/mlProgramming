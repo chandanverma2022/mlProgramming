{
 "cells": [
  {
   "cell_type": "code",
   "execution_count": 1,
   "id": "4fd80caa",
   "metadata": {},
   "outputs": [],
   "source": [
    "import pandas as pd\n",
    "import numpy as np\n",
    "import seaborn as sb\n",
    "from matplotlib import pyplot as plt"
   ]
  },
  {
   "cell_type": "code",
   "execution_count": 4,
   "id": "7f9970a1",
   "metadata": {},
   "outputs": [],
   "source": [
    "data=pd.read_excel(r\"C:\\Users\\mail2\\OneDrive\\Desktop\\ML-2022\\Ml_Data\\Cricket_Data.xlsx\")"
   ]
  },
  {
   "cell_type": "code",
   "execution_count": 7,
   "id": "17a64126",
   "metadata": {},
   "outputs": [],
   "source": [
    "data_clustering=data.drop(\"CATEGORY\",axis=1)"
   ]
  },
  {
   "cell_type": "code",
   "execution_count": 8,
   "id": "5e8ae459",
   "metadata": {},
   "outputs": [
    {
     "data": {
      "text/html": [
       "<div>\n",
       "<style scoped>\n",
       "    .dataframe tbody tr th:only-of-type {\n",
       "        vertical-align: middle;\n",
       "    }\n",
       "\n",
       "    .dataframe tbody tr th {\n",
       "        vertical-align: top;\n",
       "    }\n",
       "\n",
       "    .dataframe thead th {\n",
       "        text-align: right;\n",
       "    }\n",
       "</style>\n",
       "<table border=\"1\" class=\"dataframe\">\n",
       "  <thead>\n",
       "    <tr style=\"text-align: right;\">\n",
       "      <th></th>\n",
       "      <th>Mat</th>\n",
       "      <th>Inns</th>\n",
       "      <th>Runs</th>\n",
       "      <th>Ave</th>\n",
       "      <th>SR</th>\n",
       "      <th>CATEGORY</th>\n",
       "    </tr>\n",
       "  </thead>\n",
       "  <tbody>\n",
       "    <tr>\n",
       "      <th>0</th>\n",
       "      <td>58</td>\n",
       "      <td>104</td>\n",
       "      <td>4154</td>\n",
       "      <td>41.95</td>\n",
       "      <td>51.49</td>\n",
       "      <td>TEST</td>\n",
       "    </tr>\n",
       "    <tr>\n",
       "      <th>1</th>\n",
       "      <td>147</td>\n",
       "      <td>143</td>\n",
       "      <td>5238</td>\n",
       "      <td>39.68</td>\n",
       "      <td>85.25</td>\n",
       "      <td>ODI</td>\n",
       "    </tr>\n",
       "    <tr>\n",
       "      <th>2</th>\n",
       "      <td>71</td>\n",
       "      <td>122</td>\n",
       "      <td>6147</td>\n",
       "      <td>53.92</td>\n",
       "      <td>58.22</td>\n",
       "      <td>TEST</td>\n",
       "    </tr>\n",
       "    <tr>\n",
       "      <th>3</th>\n",
       "      <td>211</td>\n",
       "      <td>203</td>\n",
       "      <td>9779</td>\n",
       "      <td>58.20</td>\n",
       "      <td>92.12</td>\n",
       "      <td>ODI</td>\n",
       "    </tr>\n",
       "    <tr>\n",
       "      <th>4</th>\n",
       "      <td>62</td>\n",
       "      <td>58</td>\n",
       "      <td>2102</td>\n",
       "      <td>48.88</td>\n",
       "      <td>136.22</td>\n",
       "      <td>T20</td>\n",
       "    </tr>\n",
       "  </tbody>\n",
       "</table>\n",
       "</div>"
      ],
      "text/plain": [
       "   Mat  Inns  Runs    Ave      SR CATEGORY\n",
       "0   58   104  4154  41.95   51.49     TEST\n",
       "1  147   143  5238  39.68   85.25      ODI\n",
       "2   71   122  6147  53.92   58.22     TEST\n",
       "3  211   203  9779  58.20   92.12      ODI\n",
       "4   62    58  2102  48.88  136.22      T20"
      ]
     },
     "execution_count": 8,
     "metadata": {},
     "output_type": "execute_result"
    }
   ],
   "source": [
    "data.head()"
   ]
  },
  {
   "cell_type": "code",
   "execution_count": 9,
   "id": "3bb926d0",
   "metadata": {},
   "outputs": [
    {
     "data": {
      "text/plain": [
       "(75, 6)"
      ]
     },
     "execution_count": 9,
     "metadata": {},
     "output_type": "execute_result"
    }
   ],
   "source": [
    "data.shape"
   ]
  },
  {
   "cell_type": "code",
   "execution_count": 12,
   "id": "3353c471",
   "metadata": {},
   "outputs": [
    {
     "data": {
      "text/html": [
       "<div>\n",
       "<style scoped>\n",
       "    .dataframe tbody tr th:only-of-type {\n",
       "        vertical-align: middle;\n",
       "    }\n",
       "\n",
       "    .dataframe tbody tr th {\n",
       "        vertical-align: top;\n",
       "    }\n",
       "\n",
       "    .dataframe thead th {\n",
       "        text-align: right;\n",
       "    }\n",
       "</style>\n",
       "<table border=\"1\" class=\"dataframe\">\n",
       "  <thead>\n",
       "    <tr style=\"text-align: right;\">\n",
       "      <th></th>\n",
       "      <th>Mat</th>\n",
       "      <th>Inns</th>\n",
       "      <th>Runs</th>\n",
       "      <th>Ave</th>\n",
       "      <th>SR</th>\n",
       "    </tr>\n",
       "  </thead>\n",
       "  <tbody>\n",
       "    <tr>\n",
       "      <th>0</th>\n",
       "      <td>58</td>\n",
       "      <td>104</td>\n",
       "      <td>4154</td>\n",
       "      <td>41.95</td>\n",
       "      <td>51.49</td>\n",
       "    </tr>\n",
       "  </tbody>\n",
       "</table>\n",
       "</div>"
      ],
      "text/plain": [
       "   Mat  Inns  Runs    Ave     SR\n",
       "0   58   104  4154  41.95  51.49"
      ]
     },
     "execution_count": 12,
     "metadata": {},
     "output_type": "execute_result"
    }
   ],
   "source": [
    "data_clustering.head(1)"
   ]
  },
  {
   "cell_type": "code",
   "execution_count": 16,
   "id": "f1a27cbc",
   "metadata": {},
   "outputs": [
    {
     "data": {
      "text/html": [
       "<div>\n",
       "<style scoped>\n",
       "    .dataframe tbody tr th:only-of-type {\n",
       "        vertical-align: middle;\n",
       "    }\n",
       "\n",
       "    .dataframe tbody tr th {\n",
       "        vertical-align: top;\n",
       "    }\n",
       "\n",
       "    .dataframe thead th {\n",
       "        text-align: right;\n",
       "    }\n",
       "</style>\n",
       "<table border=\"1\" class=\"dataframe\">\n",
       "  <thead>\n",
       "    <tr style=\"text-align: right;\">\n",
       "      <th></th>\n",
       "      <th>Mat</th>\n",
       "      <th>Inns</th>\n",
       "      <th>Runs</th>\n",
       "      <th>Ave</th>\n",
       "      <th>SR</th>\n",
       "    </tr>\n",
       "  </thead>\n",
       "  <tbody>\n",
       "    <tr>\n",
       "      <th>Mat</th>\n",
       "      <td>1.000000</td>\n",
       "      <td>0.906105</td>\n",
       "      <td>0.812367</td>\n",
       "      <td>0.354902</td>\n",
       "      <td>-0.078149</td>\n",
       "    </tr>\n",
       "    <tr>\n",
       "      <th>Inns</th>\n",
       "      <td>0.906105</td>\n",
       "      <td>1.000000</td>\n",
       "      <td>0.962479</td>\n",
       "      <td>0.480417</td>\n",
       "      <td>-0.337541</td>\n",
       "    </tr>\n",
       "    <tr>\n",
       "      <th>Runs</th>\n",
       "      <td>0.812367</td>\n",
       "      <td>0.962479</td>\n",
       "      <td>1.000000</td>\n",
       "      <td>0.623941</td>\n",
       "      <td>-0.417074</td>\n",
       "    </tr>\n",
       "    <tr>\n",
       "      <th>Ave</th>\n",
       "      <td>0.354902</td>\n",
       "      <td>0.480417</td>\n",
       "      <td>0.623941</td>\n",
       "      <td>1.000000</td>\n",
       "      <td>-0.392465</td>\n",
       "    </tr>\n",
       "    <tr>\n",
       "      <th>SR</th>\n",
       "      <td>-0.078149</td>\n",
       "      <td>-0.337541</td>\n",
       "      <td>-0.417074</td>\n",
       "      <td>-0.392465</td>\n",
       "      <td>1.000000</td>\n",
       "    </tr>\n",
       "  </tbody>\n",
       "</table>\n",
       "</div>"
      ],
      "text/plain": [
       "           Mat      Inns      Runs       Ave        SR\n",
       "Mat   1.000000  0.906105  0.812367  0.354902 -0.078149\n",
       "Inns  0.906105  1.000000  0.962479  0.480417 -0.337541\n",
       "Runs  0.812367  0.962479  1.000000  0.623941 -0.417074\n",
       "Ave   0.354902  0.480417  0.623941  1.000000 -0.392465\n",
       "SR   -0.078149 -0.337541 -0.417074 -0.392465  1.000000"
      ]
     },
     "execution_count": 16,
     "metadata": {},
     "output_type": "execute_result"
    }
   ],
   "source": [
    "data_clustering.corr()"
   ]
  },
  {
   "cell_type": "code",
   "execution_count": 18,
   "id": "09eb2391",
   "metadata": {},
   "outputs": [
    {
     "data": {
      "image/png": "[encoded data removed]",
      "text/plain": [
       "<Figure size 432x288 with 1 Axes>"
      ]
     },
     "metadata": {
      "needs_background": "light"
     },
     "output_type": "display_data"
    }
   ],
   "source": [
    "plt.plot(data_clustering[\"Mat\"].tolist(),data_clustering[\"Inns\"].tolist(),\"ro\")\n",
    "plt.plot(data_clustering[\"Mat\"].tolist(),data_clustering[\"Ave\"].tolist(),\"*b\")\n",
    "plt.show()"
   ]
  },
  {
   "cell_type": "code",
   "execution_count": 19,
   "id": "27b4a6f8",
   "metadata": {},
   "outputs": [],
   "source": [
    "from sklearn.cluster import KMeans"
   ]
  },
  {
   "cell_type": "code",
   "execution_count": 20,
   "id": "4726e041",
   "metadata": {},
   "outputs": [],
   "source": [
    "trainer=KMeans(n_clusters=3)"
   ]
  },
  {
   "cell_type": "code",
   "execution_count": 21,
   "id": "6c9135c1",
   "metadata": {},
   "outputs": [],
   "source": [
    "learner=trainer.fit(data_clustering)"
   ]
  },
  {
   "cell_type": "code",
   "execution_count": 22,
   "id": "93154d0e",
   "metadata": {},
   "outputs": [
    {
     "data": {
      "text/plain": [
       "136646128.18473923"
      ]
     },
     "execution_count": 22,
     "metadata": {},
     "output_type": "execute_result"
    }
   ],
   "source": [
    "learner.inertia_"
   ]
  },
  {
   "cell_type": "code",
   "execution_count": 24,
   "id": "29c70c4b",
   "metadata": {},
   "outputs": [],
   "source": [
    "c=learner.cluster_centers_"
   ]
  },
  {
   "cell_type": "code",
   "execution_count": 25,
   "id": "21991f10",
   "metadata": {},
   "outputs": [
    {
     "data": {
      "text/plain": [
       "(3, 5)"
      ]
     },
     "execution_count": 25,
     "metadata": {},
     "output_type": "execute_result"
    }
   ],
   "source": [
    "c.shape"
   ]
  },
  {
   "cell_type": "code",
   "execution_count": 26,
   "id": "cffceb67",
   "metadata": {},
   "outputs": [
    {
     "data": {
      "text/plain": [
       "array([ 136.11111111,  157.        , 6481.48148148,   48.51407407,\n",
       "         73.46777778])"
      ]
     },
     "execution_count": 26,
     "metadata": {},
     "output_type": "execute_result"
    }
   ],
   "source": [
    "c[0]"
   ]
  },
  {
   "cell_type": "code",
   "execution_count": 27,
   "id": "2c7e878a",
   "metadata": {},
   "outputs": [],
   "source": [
    "k=int(np.sqrt(len(data_clustering)))"
   ]
  },
  {
   "cell_type": "code",
   "execution_count": 39,
   "id": "6f47e044",
   "metadata": {},
   "outputs": [],
   "source": [
    "k_n=list(range(1,25))"
   ]
  },
  {
   "cell_type": "code",
   "execution_count": 40,
   "id": "ff7059e6",
   "metadata": {},
   "outputs": [
    {
     "data": {
      "text/plain": [
       "[1,\n",
       " 2,\n",
       " 3,\n",
       " 4,\n",
       " 5,\n",
       " 6,\n",
       " 7,\n",
       " 8,\n",
       " 9,\n",
       " 10,\n",
       " 11,\n",
       " 12,\n",
       " 13,\n",
       " 14,\n",
       " 15,\n",
       " 16,\n",
       " 17,\n",
       " 18,\n",
       " 19,\n",
       " 20,\n",
       " 21,\n",
       " 22,\n",
       " 23,\n",
       " 24]"
      ]
     },
     "execution_count": 40,
     "metadata": {},
     "output_type": "execute_result"
    }
   ],
   "source": [
    "k_n"
   ]
  },
  {
   "cell_type": "code",
   "execution_count": 41,
   "id": "1bb17717",
   "metadata": {},
   "outputs": [
    {
     "name": "stderr",
     "output_type": "stream",
     "text": [
      "C:\\Users\\mail2\\Anaconda3\\lib\\site-packages\\sklearn\\cluster\\_kmeans.py:1036: UserWarning: KMeans is known to have a memory leak on Windows with MKL, when there are less chunks than available threads. You can avoid it by setting the environment variable OMP_NUM_THREADS=1.\n",
      "  warnings.warn(\n"
     ]
    }
   ],
   "source": [
    "wss_list=[]\n",
    "for i in k_n:\n",
    "    my_trainer=KMeans(n_clusters=i)\n",
    "    my_learner=my_trainer.fit(data_clustering)\n",
    "    wss=my_learner.inertia_\n",
    "    wss_list.append(wss)\n",
    "    "
   ]
  },
  {
   "cell_type": "code",
   "execution_count": 42,
   "id": "b749f997",
   "metadata": {},
   "outputs": [],
   "source": [
    "#wss_list"
   ]
  },
  {
   "cell_type": "code",
   "execution_count": 43,
   "id": "c48bc49d",
   "metadata": {},
   "outputs": [
    {
     "data": {
      "image/png": "[encoded data removed]",
      "text/plain": [
       "<Figure size 432x288 with 1 Axes>"
      ]
     },
     "metadata": {
      "needs_background": "light"
     },
     "output_type": "display_data"
    }
   ],
   "source": [
    "plt.plot(k_n,wss_list,'r*')\n",
    "plt.plot(k_n,wss_list,'b')\n",
    "plt.xlabel(\"K.....\")\n",
    "plt.ylabel(\"wss\")\n",
    "plt.show()"
   ]
  },
  {
   "cell_type": "code",
   "execution_count": null,
   "id": "ca2aeb30",
   "metadata": {},
   "outputs": [],
   "source": []
  }
 ],
 "metadata": {
  "kernelspec": {
   "display_name": "Python 3 (ipykernel)",
   "language": "python",
   "name": "python3"
  },
  "language_info": {
   "codemirror_mode": {
    "name": "ipython",
    "version": 3
   },
   "file_extension": ".py",
   "mimetype": "text/x-python",
   "name": "python",
   "nbconvert_exporter": "python",
   "pygments_lexer": "ipython3",
   "version": "3.9.12"
  }
 },
 "nbformat": 4,
 "nbformat_minor": 5
}
