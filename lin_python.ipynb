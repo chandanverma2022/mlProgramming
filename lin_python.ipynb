{
 "cells": [
  {
   "cell_type": "code",
   "execution_count": 1,
   "id": "e897c238",
   "metadata": {},
   "outputs": [],
   "source": [
    "import pandas as pd\n",
    "import numpy as np"
   ]
  },
  {
   "cell_type": "code",
   "execution_count": 2,
   "id": "ec6a55bf",
   "metadata": {},
   "outputs": [],
   "source": [
    "x_input=np.array([[1],[2],[3],[4],[5]])\n",
    "y_out=np.array([1,3,2,3,5])"
   ]
  },
  {
   "cell_type": "code",
   "execution_count": 3,
   "id": "f95efbc3",
   "metadata": {},
   "outputs": [
    {
     "data": {
      "text/plain": [
       "array([[1],\n",
       "       [2],\n",
       "       [3],\n",
       "       [4],\n",
       "       [5]])"
      ]
     },
     "execution_count": 3,
     "metadata": {},
     "output_type": "execute_result"
    }
   ],
   "source": [
    "x_input"
   ]
  },
  {
   "cell_type": "code",
   "execution_count": 4,
   "id": "8f9456ce",
   "metadata": {},
   "outputs": [
    {
     "data": {
      "text/plain": [
       "array([1, 3, 2, 3, 5])"
      ]
     },
     "execution_count": 4,
     "metadata": {},
     "output_type": "execute_result"
    }
   ],
   "source": [
    "y_out"
   ]
  },
  {
   "cell_type": "code",
   "execution_count": 5,
   "id": "a36d1078",
   "metadata": {},
   "outputs": [],
   "source": [
    "from sklearn.linear_model import LinearRegression"
   ]
  },
  {
   "cell_type": "code",
   "execution_count": 6,
   "id": "3eb47b2a",
   "metadata": {},
   "outputs": [],
   "source": [
    "trainer=LinearRegression()"
   ]
  },
  {
   "cell_type": "code",
   "execution_count": 7,
   "id": "15d32fb4",
   "metadata": {},
   "outputs": [],
   "source": [
    "learner=trainer.fit(x_input,y_out)"
   ]
  },
  {
   "cell_type": "code",
   "execution_count": 8,
   "id": "5ec9c1c0",
   "metadata": {},
   "outputs": [
    {
     "data": {
      "text/plain": [
       "array([1.2])"
      ]
     },
     "execution_count": 8,
     "metadata": {},
     "output_type": "execute_result"
    }
   ],
   "source": [
    "learner.predict([[1]])"
   ]
  },
  {
   "cell_type": "code",
   "execution_count": 9,
   "id": "4c41c25c",
   "metadata": {},
   "outputs": [
    {
     "data": {
      "text/plain": [
       "array([0.8])"
      ]
     },
     "execution_count": 9,
     "metadata": {},
     "output_type": "execute_result"
    }
   ],
   "source": [
    "learner.coef_"
   ]
  },
  {
   "cell_type": "code",
   "execution_count": 10,
   "id": "cb8ae525",
   "metadata": {},
   "outputs": [
    {
     "data": {
      "text/plain": [
       "0.39999999999999947"
      ]
     },
     "execution_count": 10,
     "metadata": {},
     "output_type": "execute_result"
    }
   ],
   "source": [
    "learner.intercept_"
   ]
  },
  {
   "cell_type": "code",
   "execution_count": 12,
   "id": "131aa744",
   "metadata": {},
   "outputs": [],
   "source": [
    "df=pd.DataFrame({\"X\":list(x_input),\"YA\":y_out})"
   ]
  },
  {
   "cell_type": "code",
   "execution_count": 15,
   "id": "1e507fb0",
   "metadata": {},
   "outputs": [],
   "source": [
    "Yp=learner.predict(x_input)"
   ]
  },
  {
   "cell_type": "code",
   "execution_count": 16,
   "id": "bd6da534",
   "metadata": {},
   "outputs": [
    {
     "data": {
      "text/plain": [
       "array([1.2, 2. , 2.8, 3.6, 4.4])"
      ]
     },
     "execution_count": 16,
     "metadata": {},
     "output_type": "execute_result"
    }
   ],
   "source": [
    "Yp"
   ]
  },
  {
   "cell_type": "code",
   "execution_count": 17,
   "id": "1f531533",
   "metadata": {},
   "outputs": [],
   "source": [
    "df[\"YP\"]=Yp"
   ]
  },
  {
   "cell_type": "code",
   "execution_count": 19,
   "id": "915afc2b",
   "metadata": {},
   "outputs": [
    {
     "data": {
      "text/html": [
       "<div>\n",
       "<style scoped>\n",
       "    .dataframe tbody tr th:only-of-type {\n",
       "        vertical-align: middle;\n",
       "    }\n",
       "\n",
       "    .dataframe tbody tr th {\n",
       "        vertical-align: top;\n",
       "    }\n",
       "\n",
       "    .dataframe thead th {\n",
       "        text-align: right;\n",
       "    }\n",
       "</style>\n",
       "<table border=\"1\" class=\"dataframe\">\n",
       "  <thead>\n",
       "    <tr style=\"text-align: right;\">\n",
       "      <th></th>\n",
       "      <th>X</th>\n",
       "      <th>YA</th>\n",
       "      <th>YP</th>\n",
       "    </tr>\n",
       "  </thead>\n",
       "  <tbody>\n",
       "    <tr>\n",
       "      <th>0</th>\n",
       "      <td>[1]</td>\n",
       "      <td>1</td>\n",
       "      <td>1.2</td>\n",
       "    </tr>\n",
       "  </tbody>\n",
       "</table>\n",
       "</div>"
      ],
      "text/plain": [
       "     X  YA   YP\n",
       "0  [1]   1  1.2"
      ]
     },
     "execution_count": 19,
     "metadata": {},
     "output_type": "execute_result"
    }
   ],
   "source": [
    "df.head(1)"
   ]
  },
  {
   "cell_type": "code",
   "execution_count": 20,
   "id": "c483fd8b",
   "metadata": {},
   "outputs": [],
   "source": [
    "from matplotlib import pyplot as plt\n",
    "import seaborn as sb"
   ]
  },
  {
   "cell_type": "code",
   "execution_count": 27,
   "id": "5de35686",
   "metadata": {},
   "outputs": [
    {
     "data": {
      "image/png": "[encoded data removed]",
      "text/plain": [
       "<Figure size 432x288 with 1 Axes>"
      ]
     },
     "metadata": {
      "needs_background": "light"
     },
     "output_type": "display_data"
    }
   ],
   "source": [
    "plt.plot(x_input,y_out,\"*r\")\n",
    "plt.plot(x_input,Yp,\"og\")\n",
    "plt.plot(x_input,Yp,\".-y\")\n",
    "plt.xlabel('X....>')\n",
    "plt.ylabel(\"Ya\")\n",
    "plt.legend([\"YA\",\"YP\"])\n",
    "plt.show()"
   ]
  },
  {
   "cell_type": "code",
   "execution_count": 28,
   "id": "40fa10de",
   "metadata": {},
   "outputs": [],
   "source": [
    "from sklearn.metrics import mean_squared_error"
   ]
  },
  {
   "cell_type": "code",
   "execution_count": 29,
   "id": "1f0df10f",
   "metadata": {},
   "outputs": [
    {
     "name": "stdout",
     "output_type": "stream",
     "text": [
      "0.6928203230275508\n"
     ]
    }
   ],
   "source": [
    "error=np.sqrt(mean_squared_error(Yp,y_out))\n",
    "print(error)"
   ]
  },
  {
   "cell_type": "code",
   "execution_count": null,
   "id": "5fbc5b64",
   "metadata": {},
   "outputs": [],
   "source": []
  }
 ],
 "metadata": {
  "kernelspec": {
   "display_name": "Python 3 (ipykernel)",
   "language": "python",
   "name": "python3"
  },
  "language_info": {
   "codemirror_mode": {
    "name": "ipython",
    "version": 3
   },
   "file_extension": ".py",
   "mimetype": "text/x-python",
   "name": "python",
   "nbconvert_exporter": "python",
   "pygments_lexer": "ipython3",
   "version": "3.9.12"
  }
 },
 "nbformat": 4,
 "nbformat_minor": 5
}
